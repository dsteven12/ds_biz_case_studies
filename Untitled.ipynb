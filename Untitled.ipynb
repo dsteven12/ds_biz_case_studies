{
 "cells": [
  {
   "cell_type": "markdown",
   "metadata": {},
   "source": [
    "<h1>Customer Churn Case Study</h1>"
   ]
  },
  {
   "cell_type": "markdown",
   "metadata": {},
   "source": [
    "<h2>About our Dataset</h2>\n",
    "\n",
    "Source - https://www.kaggle.com/blastchar/tece-customer-churn\n",
    "\n",
    "1. Telecommunications Company customer info.\n",
    "2. Data Available: Customer IDs, General Customer Info, Subscribed Services, Contract Type, Monthly Charges, etc. \n",
    "3. Historic Customer Info - so we have info if the customer has left. \n",
    "\n",
    "Field Descriptions\n",
    "- customerID - Customer's ID\n",
    "- gender - Male/Female\n",
    "- SeniorCitizen - flag for Senior or Not (1,0)\n",
    "- Partner - flag for if a Customer has a partner or Not (Yes, No)\n",
    "- Dependents - flag for if Customer has dependents or Not (Yes, No)"
   ]
  }
 ],
 "metadata": {
  "kernelspec": {
   "display_name": "Python 3",
   "language": "python",
   "name": "python3"
  },
  "language_info": {
   "codemirror_mode": {
    "name": "ipython",
    "version": 3
   },
   "file_extension": ".py",
   "mimetype": "text/x-python",
   "name": "python",
   "nbconvert_exporter": "python",
   "pygments_lexer": "ipython3",
   "version": "3.7.3"
  }
 },
 "nbformat": 4,
 "nbformat_minor": 2
}
